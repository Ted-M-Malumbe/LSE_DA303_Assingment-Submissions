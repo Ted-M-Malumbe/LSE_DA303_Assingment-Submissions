{
 "cells": [
  {
   "cell_type": "markdown",
   "id": "f127ed5f",
   "metadata": {},
   "source": [
    "# Ted Malumbe Data Analytics with Python for Turtle Games Data Set"
   ]
  },
  {
   "cell_type": "markdown",
   "id": "81b07a61",
   "metadata": {},
   "source": [
    "#  1. Data Importation"
   ]
  },
  {
   "cell_type": "code",
   "execution_count": 19,
   "id": "00a37d8c",
   "metadata": {},
   "outputs": [],
   "source": [
    "#Importing the python libraries\n",
    "import pandas as pd\n",
    "import numpy as np\n",
    "from datetime import datetime\n",
    "from datetime import date\n",
    "\n",
    "#Import python visualisation\n",
    "import seaborn as sns\n",
    "import matplotlib.pyplot as plt"
   ]
  },
  {
   "cell_type": "code",
   "execution_count": 20,
   "id": "4eaca234",
   "metadata": {},
   "outputs": [],
   "source": [
    "#Import linear regression libraries\n",
    "import statsmodels.api as sm\n",
    "import statsmodels.stats.api as sms\n",
    "from sklearn import datasets \n",
    "import numpy as np  \n",
    "from sklearn import linear_model \n",
    "\n",
    "\n",
    "# Import metrics for measuring linear model fit:\n",
    "import sklearn\n",
    "from sklearn import datasets \n",
    "from sklearn import linear_model\n",
    "from statsmodels.stats.outliers_influence import variance_inflation_factor\n",
    "from sklearn.model_selection import train_test_split\n",
    "from sklearn import metrics\n",
    "from sklearn.linear_model import LinearRegression\n",
    "from statsmodels.formula.api import ols"
   ]
  },
  {
   "cell_type": "code",
   "execution_count": 21,
   "id": "fb4b284c",
   "metadata": {},
   "outputs": [],
   "source": [
    "#Load the datasets \n",
    "lego = pd.read_csv(\"lego.csv\")\n",
    "games_review = pd.read_csv(\"game_reviews.csv\")\n",
    "games_sales = pd.read_csv(\"games_sales.csv\")"
   ]
  },
  {
   "cell_type": "markdown",
   "id": "d0e984bb",
   "metadata": {},
   "source": [
    "# 2. Data Exploration"
   ]
  },
  {
   "cell_type": "code",
   "execution_count": 22,
   "id": "5f33f0e5",
   "metadata": {
    "scrolled": true
   },
   "outputs": [
    {
     "data": {
      "text/html": [
       "<div>\n",
       "<style scoped>\n",
       "    .dataframe tbody tr th:only-of-type {\n",
       "        vertical-align: middle;\n",
       "    }\n",
       "\n",
       "    .dataframe tbody tr th {\n",
       "        vertical-align: top;\n",
       "    }\n",
       "\n",
       "    .dataframe thead th {\n",
       "        text-align: right;\n",
       "    }\n",
       "</style>\n",
       "<table border=\"1\" class=\"dataframe\">\n",
       "  <thead>\n",
       "    <tr style=\"text-align: right;\">\n",
       "      <th></th>\n",
       "      <th>ages</th>\n",
       "      <th>list_price</th>\n",
       "      <th>num_reviews</th>\n",
       "      <th>piece_count</th>\n",
       "      <th>play_star_rating</th>\n",
       "      <th>review_difficulty</th>\n",
       "      <th>country</th>\n",
       "    </tr>\n",
       "  </thead>\n",
       "  <tbody>\n",
       "    <tr>\n",
       "      <th>0</th>\n",
       "      <td>19</td>\n",
       "      <td>29.99</td>\n",
       "      <td>2</td>\n",
       "      <td>277</td>\n",
       "      <td>4.0</td>\n",
       "      <td>0</td>\n",
       "      <td>20</td>\n",
       "    </tr>\n",
       "    <tr>\n",
       "      <th>1</th>\n",
       "      <td>19</td>\n",
       "      <td>19.99</td>\n",
       "      <td>2</td>\n",
       "      <td>168</td>\n",
       "      <td>4.0</td>\n",
       "      <td>2</td>\n",
       "      <td>20</td>\n",
       "    </tr>\n",
       "  </tbody>\n",
       "</table>\n",
       "</div>"
      ],
      "text/plain": [
       "   ages  list_price  num_reviews  piece_count  play_star_rating  \\\n",
       "0    19       29.99            2          277               4.0   \n",
       "1    19       19.99            2          168               4.0   \n",
       "\n",
       "   review_difficulty  country  \n",
       "0                  0       20  \n",
       "1                  2       20  "
      ]
     },
     "execution_count": 22,
     "metadata": {},
     "output_type": "execute_result"
    }
   ],
   "source": [
    "# Understanding the shape and nature of the data\n",
    "lego.head(2)\n",
    "# For further information on dataset remove the comment on info function\n",
    "#lego.info()"
   ]
  },
  {
   "cell_type": "code",
   "execution_count": 23,
   "id": "2d0ea689",
   "metadata": {},
   "outputs": [
    {
     "data": {
      "text/html": [
       "<div>\n",
       "<style scoped>\n",
       "    .dataframe tbody tr th:only-of-type {\n",
       "        vertical-align: middle;\n",
       "    }\n",
       "\n",
       "    .dataframe tbody tr th {\n",
       "        vertical-align: top;\n",
       "    }\n",
       "\n",
       "    .dataframe thead th {\n",
       "        text-align: right;\n",
       "    }\n",
       "</style>\n",
       "<table border=\"1\" class=\"dataframe\">\n",
       "  <thead>\n",
       "    <tr style=\"text-align: right;\">\n",
       "      <th></th>\n",
       "      <th>overall</th>\n",
       "      <th>verified</th>\n",
       "      <th>reviewTime</th>\n",
       "      <th>reviewerID</th>\n",
       "      <th>reviewerName</th>\n",
       "      <th>reviewText</th>\n",
       "      <th>summary</th>\n",
       "      <th>unixReviewTime</th>\n",
       "      <th>image</th>\n",
       "    </tr>\n",
       "  </thead>\n",
       "  <tbody>\n",
       "    <tr>\n",
       "      <th>0</th>\n",
       "      <td>2</td>\n",
       "      <td>False</td>\n",
       "      <td>09 22, 2016</td>\n",
       "      <td>A1IDMI31WEANAF</td>\n",
       "      <td>Mackenzie Kent</td>\n",
       "      <td>When it comes to a DM's screen, the space on t...</td>\n",
       "      <td>The fact that 50% of this space is wasted on a...</td>\n",
       "      <td>1474502400</td>\n",
       "      <td>NaN</td>\n",
       "    </tr>\n",
       "    <tr>\n",
       "      <th>1</th>\n",
       "      <td>1</td>\n",
       "      <td>False</td>\n",
       "      <td>09 18, 2016</td>\n",
       "      <td>A4BCEVVZ4Y3V3</td>\n",
       "      <td>Jonathan Christian</td>\n",
       "      <td>An Open Letter to GaleForce9*:\\n\\nYour unpaint...</td>\n",
       "      <td>Another worthless Dungeon Master's screen from...</td>\n",
       "      <td>1474156800</td>\n",
       "      <td>NaN</td>\n",
       "    </tr>\n",
       "  </tbody>\n",
       "</table>\n",
       "</div>"
      ],
      "text/plain": [
       "   overall  verified   reviewTime      reviewerID        reviewerName  \\\n",
       "0        2     False  09 22, 2016  A1IDMI31WEANAF      Mackenzie Kent   \n",
       "1        1     False  09 18, 2016   A4BCEVVZ4Y3V3  Jonathan Christian   \n",
       "\n",
       "                                          reviewText  \\\n",
       "0  When it comes to a DM's screen, the space on t...   \n",
       "1  An Open Letter to GaleForce9*:\\n\\nYour unpaint...   \n",
       "\n",
       "                                             summary  unixReviewTime image  \n",
       "0  The fact that 50% of this space is wasted on a...      1474502400   NaN  \n",
       "1  Another worthless Dungeon Master's screen from...      1474156800   NaN  "
      ]
     },
     "execution_count": 23,
     "metadata": {},
     "output_type": "execute_result"
    }
   ],
   "source": [
    "# Understanding the shape and nature of the data\n",
    "games_review.head(2)\n",
    "# For further information on dataset remove the comment on info function\n",
    "#games_review.info()"
   ]
  },
  {
   "cell_type": "code",
   "execution_count": 24,
   "id": "718e7b31",
   "metadata": {},
   "outputs": [
    {
     "data": {
      "text/html": [
       "<div>\n",
       "<style scoped>\n",
       "    .dataframe tbody tr th:only-of-type {\n",
       "        vertical-align: middle;\n",
       "    }\n",
       "\n",
       "    .dataframe tbody tr th {\n",
       "        vertical-align: top;\n",
       "    }\n",
       "\n",
       "    .dataframe thead th {\n",
       "        text-align: right;\n",
       "    }\n",
       "</style>\n",
       "<table border=\"1\" class=\"dataframe\">\n",
       "  <thead>\n",
       "    <tr style=\"text-align: right;\">\n",
       "      <th></th>\n",
       "      <th>Rank</th>\n",
       "      <th>Name</th>\n",
       "      <th>Platform</th>\n",
       "      <th>Year</th>\n",
       "      <th>Genre</th>\n",
       "      <th>Publisher</th>\n",
       "      <th>NA_Sales</th>\n",
       "      <th>EU_Sales</th>\n",
       "      <th>Global_Sales</th>\n",
       "    </tr>\n",
       "  </thead>\n",
       "  <tbody>\n",
       "    <tr>\n",
       "      <th>0</th>\n",
       "      <td>1</td>\n",
       "      <td>Wii Sports</td>\n",
       "      <td>Wii</td>\n",
       "      <td>2006.0</td>\n",
       "      <td>Sports</td>\n",
       "      <td>Nintendo</td>\n",
       "      <td>41.49</td>\n",
       "      <td>29.02</td>\n",
       "      <td>82.74</td>\n",
       "    </tr>\n",
       "    <tr>\n",
       "      <th>1</th>\n",
       "      <td>2</td>\n",
       "      <td>Super Mario Bros.</td>\n",
       "      <td>NES</td>\n",
       "      <td>1985.0</td>\n",
       "      <td>Platform</td>\n",
       "      <td>Nintendo</td>\n",
       "      <td>29.08</td>\n",
       "      <td>3.58</td>\n",
       "      <td>40.24</td>\n",
       "    </tr>\n",
       "  </tbody>\n",
       "</table>\n",
       "</div>"
      ],
      "text/plain": [
       "   Rank               Name Platform    Year     Genre Publisher  NA_Sales  \\\n",
       "0     1         Wii Sports      Wii  2006.0    Sports  Nintendo     41.49   \n",
       "1     2  Super Mario Bros.      NES  1985.0  Platform  Nintendo     29.08   \n",
       "\n",
       "   EU_Sales  Global_Sales  \n",
       "0     29.02         82.74  \n",
       "1      3.58         40.24  "
      ]
     },
     "execution_count": 24,
     "metadata": {},
     "output_type": "execute_result"
    }
   ],
   "source": [
    "# Understanding the shape and nature of the data\n",
    "games_sales.head(2)\n",
    "# For further information on dataset remove the comment on info function\n",
    "#games_sales.info()"
   ]
  },
  {
   "cell_type": "markdown",
   "id": "fbef2655",
   "metadata": {},
   "source": [
    "## 2.1 Check for Missing Values"
   ]
  },
  {
   "cell_type": "code",
   "execution_count": 25,
   "id": "c6c84fe8",
   "metadata": {},
   "outputs": [],
   "source": [
    "#Here we are trying to understand if there are any missing values in the dataset \n",
    "#print(lego.isnull())"
   ]
  },
  {
   "cell_type": "code",
   "execution_count": 26,
   "id": "99d208b5",
   "metadata": {},
   "outputs": [],
   "source": [
    "#Here we are trying to understand if there are any missing values in the dataset \n",
    "# Other data sets of Lego and game sales do not have NAN values\n",
    "#print(games_review['image'].isnull())"
   ]
  },
  {
   "cell_type": "code",
   "execution_count": 27,
   "id": "c6683341",
   "metadata": {},
   "outputs": [],
   "source": [
    "#Handing the missing values by replacing the NAN with 0, alternatively we can drop the column. TBC.\n",
    "#print(games_review)\n",
    "#games_review.fillna(0)"
   ]
  },
  {
   "cell_type": "markdown",
   "id": "62c4c681",
   "metadata": {},
   "source": [
    "## 2.2 Changing Data Type"
   ]
  },
  {
   "cell_type": "code",
   "execution_count": 28,
   "id": "f7bd74ad",
   "metadata": {},
   "outputs": [],
   "source": [
    "#Convert python pandas series dtype to datetime\n",
    "games_review = pd.to_datetime(games_review['reviewTime'])"
   ]
  },
  {
   "cell_type": "code",
   "execution_count": 29,
   "id": "e60858cc",
   "metadata": {},
   "outputs": [
    {
     "data": {
      "text/plain": [
       "0   2016-09-22\n",
       "1   2016-09-18\n",
       "Name: reviewTime, dtype: datetime64[ns]"
      ]
     },
     "execution_count": 29,
     "metadata": {},
     "output_type": "execute_result"
    }
   ],
   "source": [
    "games_review.head(2)"
   ]
  },
  {
   "cell_type": "markdown",
   "id": "0fd2af92",
   "metadata": {},
   "source": [
    "## 2.3 Data Description"
   ]
  },
  {
   "cell_type": "code",
   "execution_count": 30,
   "id": "61f02090",
   "metadata": {},
   "outputs": [
    {
     "data": {
      "text/html": [
       "<div>\n",
       "<style scoped>\n",
       "    .dataframe tbody tr th:only-of-type {\n",
       "        vertical-align: middle;\n",
       "    }\n",
       "\n",
       "    .dataframe tbody tr th {\n",
       "        vertical-align: top;\n",
       "    }\n",
       "\n",
       "    .dataframe thead th {\n",
       "        text-align: right;\n",
       "    }\n",
       "</style>\n",
       "<table border=\"1\" class=\"dataframe\">\n",
       "  <thead>\n",
       "    <tr style=\"text-align: right;\">\n",
       "      <th></th>\n",
       "      <th>ages</th>\n",
       "      <th>list_price</th>\n",
       "      <th>num_reviews</th>\n",
       "      <th>piece_count</th>\n",
       "      <th>play_star_rating</th>\n",
       "      <th>review_difficulty</th>\n",
       "      <th>country</th>\n",
       "    </tr>\n",
       "  </thead>\n",
       "  <tbody>\n",
       "    <tr>\n",
       "      <th>count</th>\n",
       "      <td>12261.00000</td>\n",
       "      <td>12261.000000</td>\n",
       "      <td>12261.000000</td>\n",
       "      <td>12261.000000</td>\n",
       "      <td>12261.000000</td>\n",
       "      <td>12261.000000</td>\n",
       "      <td>12261.000000</td>\n",
       "    </tr>\n",
       "    <tr>\n",
       "      <th>mean</th>\n",
       "      <td>16.68828</td>\n",
       "      <td>65.141998</td>\n",
       "      <td>14.603050</td>\n",
       "      <td>493.405921</td>\n",
       "      <td>3.709689</td>\n",
       "      <td>1.988826</td>\n",
       "      <td>10.015333</td>\n",
       "    </tr>\n",
       "    <tr>\n",
       "      <th>std</th>\n",
       "      <td>8.21868</td>\n",
       "      <td>91.980429</td>\n",
       "      <td>34.356847</td>\n",
       "      <td>825.364580</td>\n",
       "      <td>1.641130</td>\n",
       "      <td>1.787565</td>\n",
       "      <td>6.185450</td>\n",
       "    </tr>\n",
       "    <tr>\n",
       "      <th>min</th>\n",
       "      <td>0.00000</td>\n",
       "      <td>2.272400</td>\n",
       "      <td>0.000000</td>\n",
       "      <td>1.000000</td>\n",
       "      <td>0.000000</td>\n",
       "      <td>0.000000</td>\n",
       "      <td>0.000000</td>\n",
       "    </tr>\n",
       "    <tr>\n",
       "      <th>25%</th>\n",
       "      <td>11.00000</td>\n",
       "      <td>19.990000</td>\n",
       "      <td>1.000000</td>\n",
       "      <td>97.000000</td>\n",
       "      <td>3.600000</td>\n",
       "      <td>0.000000</td>\n",
       "      <td>4.000000</td>\n",
       "    </tr>\n",
       "    <tr>\n",
       "      <th>50%</th>\n",
       "      <td>19.00000</td>\n",
       "      <td>36.587800</td>\n",
       "      <td>4.000000</td>\n",
       "      <td>216.000000</td>\n",
       "      <td>4.400000</td>\n",
       "      <td>2.000000</td>\n",
       "      <td>10.000000</td>\n",
       "    </tr>\n",
       "    <tr>\n",
       "      <th>75%</th>\n",
       "      <td>23.00000</td>\n",
       "      <td>70.192200</td>\n",
       "      <td>11.000000</td>\n",
       "      <td>544.000000</td>\n",
       "      <td>4.700000</td>\n",
       "      <td>4.000000</td>\n",
       "      <td>15.000000</td>\n",
       "    </tr>\n",
       "    <tr>\n",
       "      <th>max</th>\n",
       "      <td>30.00000</td>\n",
       "      <td>1104.870000</td>\n",
       "      <td>367.000000</td>\n",
       "      <td>7541.000000</td>\n",
       "      <td>5.000000</td>\n",
       "      <td>5.000000</td>\n",
       "      <td>20.000000</td>\n",
       "    </tr>\n",
       "  </tbody>\n",
       "</table>\n",
       "</div>"
      ],
      "text/plain": [
       "              ages    list_price   num_reviews   piece_count  \\\n",
       "count  12261.00000  12261.000000  12261.000000  12261.000000   \n",
       "mean      16.68828     65.141998     14.603050    493.405921   \n",
       "std        8.21868     91.980429     34.356847    825.364580   \n",
       "min        0.00000      2.272400      0.000000      1.000000   \n",
       "25%       11.00000     19.990000      1.000000     97.000000   \n",
       "50%       19.00000     36.587800      4.000000    216.000000   \n",
       "75%       23.00000     70.192200     11.000000    544.000000   \n",
       "max       30.00000   1104.870000    367.000000   7541.000000   \n",
       "\n",
       "       play_star_rating  review_difficulty       country  \n",
       "count      12261.000000       12261.000000  12261.000000  \n",
       "mean           3.709689           1.988826     10.015333  \n",
       "std            1.641130           1.787565      6.185450  \n",
       "min            0.000000           0.000000      0.000000  \n",
       "25%            3.600000           0.000000      4.000000  \n",
       "50%            4.400000           2.000000     10.000000  \n",
       "75%            4.700000           4.000000     15.000000  \n",
       "max            5.000000           5.000000     20.000000  "
      ]
     },
     "execution_count": 30,
     "metadata": {},
     "output_type": "execute_result"
    }
   ],
   "source": [
    "#Quantitative data that we can apply descriptive statistics\n",
    "lego.describe()"
   ]
  },
  {
   "cell_type": "markdown",
   "id": "bf9d1c4a",
   "metadata": {},
   "source": [
    "## 2.4 Identify outliers in the Data set"
   ]
  },
  {
   "cell_type": "code",
   "execution_count": 31,
   "id": "c9312435",
   "metadata": {},
   "outputs": [
    {
     "data": {
      "text/plain": [
       "<AxesSubplot:xlabel='piece_count'>"
      ]
     },
     "execution_count": 31,
     "metadata": {},
     "output_type": "execute_result"
    },
    {
     "data": {
      "image/png": "[encoded data removed]",
      "text/plain": [
       "<Figure size 432x288 with 1 Axes>"
      ]
     },
     "metadata": {
      "needs_background": "light"
     },
     "output_type": "display_data"
    }
   ],
   "source": [
    "import seaborn as sns\n",
    "import warnings\n",
    "warnings.filterwarnings(\"ignore\")\n",
    "sns.boxplot(lego['ages']) #No apprent outliers in the dataset\n",
    "sns.boxplot(lego['list_price']) #No apprent outliers in the dataset\n",
    "sns.boxplot(lego['piece_count']) #Maximum piece count of 7541 is worrying"
   ]
  },
  {
   "cell_type": "code",
   "execution_count": null,
   "id": "b60d8bcb",
   "metadata": {},
   "outputs": [],
   "source": []
  },
  {
   "cell_type": "markdown",
   "id": "85112d98",
   "metadata": {},
   "source": [
    "# 3. Data Analysis in accordance to business objectives"
   ]
  },
  {
   "cell_type": "markdown",
   "id": "cd95c28b",
   "metadata": {},
   "source": [
    "# 3.1.A What price should be set for the Lego sets with 8,000 Lego pieces?"
   ]
  },
  {
   "cell_type": "markdown",
   "id": "58186c16",
   "metadata": {},
   "source": [
    "## Answer: 792"
   ]
  },
  {
   "cell_type": "code",
   "execution_count": 32,
   "id": "480d2097",
   "metadata": {},
   "outputs": [],
   "source": [
    "#Here we define in the independant and dependant variable\n",
    "y = lego[\"list_price\"].values.reshape(-1,1)\n",
    "x = lego[\"piece_count\"].values.reshape(-1,1)"
   ]
  },
  {
   "cell_type": "code",
   "execution_count": 33,
   "id": "e6785105",
   "metadata": {},
   "outputs": [
    {
     "data": {
      "text/plain": [
       "LinearRegression()"
      ]
     },
     "execution_count": 33,
     "metadata": {},
     "output_type": "execute_result"
    }
   ],
   "source": [
    "#We then fit the model to confirm that the linear regression has been generated\n",
    "lm = LinearRegression()\n",
    "lm.fit(x,y)"
   ]
  },
  {
   "cell_type": "code",
   "execution_count": 34,
   "id": "db93af74",
   "metadata": {},
   "outputs": [
    {
     "data": {
      "text/plain": [
       "array([[44.16935263],\n",
       "       [33.6057859 ],\n",
       "       [24.49592101],\n",
       "       ...,\n",
       "       [39.90516056],\n",
       "       [21.97617115],\n",
       "       [27.88789198]])"
      ]
     },
     "execution_count": 34,
     "metadata": {},
     "output_type": "execute_result"
    }
   ],
   "source": [
    "#We use the predict method to begin the prediction\n",
    "lm.predict(x)"
   ]
  },
  {
   "cell_type": "code",
   "execution_count": 35,
   "id": "8c1a1652",
   "metadata": {},
   "outputs": [
    {
     "data": {
      "text/plain": [
       "array([17.32432525])"
      ]
     },
     "execution_count": 35,
     "metadata": {},
     "output_type": "execute_result"
    }
   ],
   "source": [
    "#We aim to understand where the intercept is located\n",
    "lm.intercept_"
   ]
  },
  {
   "cell_type": "code",
   "execution_count": 36,
   "id": "38846f30",
   "metadata": {},
   "outputs": [
    {
     "data": {
      "text/plain": [
       "array([[0.09691346]])"
      ]
     },
     "execution_count": 36,
     "metadata": {},
     "output_type": "execute_result"
    }
   ],
   "source": [
    "#We now need to confirm the relationship between the variables\n",
    "lm.coef_"
   ]
  },
  {
   "cell_type": "code",
   "execution_count": 37,
   "id": "2f5c40be",
   "metadata": {},
   "outputs": [
    {
     "data": {
      "image/png": "[encoded data removed]",
      "text/plain": [
       "<Figure size 432x288 with 1 Axes>"
      ]
     },
     "metadata": {
      "needs_background": "light"
     },
     "output_type": "display_data"
    }
   ],
   "source": [
    "#We then plot the relationship between x and y\n",
    "# [1] Create a scatterplot (with red data points). \n",
    "plt.scatter(x, y, color = \"red\")  \n",
    "# [2] Create a regression line in green.\n",
    "plt.plot(x, lm.predict(x), color = \"green\") \n",
    "# [3] Set the title for the graph.\n",
    "plt.title(\"Number of Lego Pieces vs Price\") \n",
    "# [4] Set the label for the x-axis.\n",
    "plt.xlabel(\"Number of Pieces\") \n",
    "# [5] Set the label for the y-axis.\n",
    "plt.ylabel(\"Price\")\n",
    "# [6] Print the graph. \n",
    "plt.show() "
   ]
  },
  {
   "cell_type": "code",
   "execution_count": 38,
   "id": "26e0862b",
   "metadata": {},
   "outputs": [
    {
     "name": "stdout",
     "output_type": "stream",
     "text": [
      "[[792.6319753 ]\n",
      " [889.54543155]\n",
      " [986.45888781]]\n"
     ]
    }
   ],
   "source": [
    "#We now make the prediction for what price should be set for the number of pieces\n",
    "predict_price_of_pieces = lm.predict([[8000],[9000],[10000]])\n",
    "\n",
    "#See the result\n",
    "print(predict_price_of_pieces)"
   ]
  },
  {
   "cell_type": "code",
   "execution_count": 39,
   "id": "b3ab2e89",
   "metadata": {},
   "outputs": [],
   "source": [
    "#Now that we have the prediction we are going to test the model\n",
    "#Import the sklearn module\n",
    "from sklearn.model_selection import train_test_split\n",
    "\n",
    "# We will split the data 50/50\n",
    "# in values between variable.\n",
    "x_train,x_test,y_train,y_test = train_test_split(x,y,train_size=0.5, \n",
    "                                                 random_state=100) "
   ]
  },
  {
   "cell_type": "code",
   "execution_count": 40,
   "id": "37875a8b",
   "metadata": {},
   "outputs": [
    {
     "data": {
      "text/plain": [
       "LinearRegression()"
      ]
     },
     "execution_count": 40,
     "metadata": {},
     "output_type": "execute_result"
    }
   ],
   "source": [
    "#Run the regression test and visualise the training data once more\n",
    "#Linear regression: fitting model\n",
    "lm.fit(x_train, y_train)"
   ]
  },
  {
   "cell_type": "code",
   "execution_count": 41,
   "id": "4a4b9735",
   "metadata": {},
   "outputs": [],
   "source": [
    "#Now we will predict the values in the training data set \n",
    "y_pred = lm.predict(x_train)"
   ]
  },
  {
   "cell_type": "code",
   "execution_count": 42,
   "id": "a131a109",
   "metadata": {},
   "outputs": [
    {
     "data": {
      "image/png": "[encoded data removed]",
      "text/plain": [
       "<Figure size 432x288 with 1 Axes>"
      ]
     },
     "metadata": {
      "needs_background": "light"
     },
     "output_type": "display_data"
    }
   ],
   "source": [
    "#We visualise the data\n",
    "# [1] Create a scatterplot (with red data points).\n",
    "plt.scatter(x_train, y_train, color = \"red\")  \n",
    "# [2] Create a regression line in green.\n",
    "plt.plot(x_train, y_pred, color = \"green\")\n",
    "# [3] Set the title for the graph.  \n",
    "plt.title(\"Number of Lego Pieces vs Price\")\n",
    "# [4] Set the label for the x-axis.  \n",
    "plt.xlabel(\"Number of Pieces\")\n",
    "# [5] Set the label for the y-axis.   \n",
    "plt.ylabel(\"Price\") \n",
    "# [6] Print the graph. \n",
    "plt.show()"
   ]
  },
  {
   "cell_type": "code",
   "execution_count": 43,
   "id": "877189e6",
   "metadata": {},
   "outputs": [
    {
     "name": "stdout",
     "output_type": "stream",
     "text": [
      "0.7705133058598679\n"
     ]
    }
   ],
   "source": [
    "#We now test how well the model is doing using the R squared value\n",
    "print(lm.score(x_train, y_train))"
   ]
  },
  {
   "cell_type": "code",
   "execution_count": 44,
   "id": "41b95707",
   "metadata": {},
   "outputs": [],
   "source": [
    "#This value of greater than 0.7 shows there is a strong correlation between price and pieces. \n",
    "#But we could do better with a higher r squared value."
   ]
  },
  {
   "cell_type": "markdown",
   "id": "cd6a2356",
   "metadata": {},
   "source": [
    "# 3.1.B  What price should be set for the Lego sets with 8,000 Lego pieces that are most likely to be purchased by 30-year-old customers?"
   ]
  },
  {
   "cell_type": "markdown",
   "id": "6c4e6177",
   "metadata": {},
   "source": [
    "# Answer 793"
   ]
  },
  {
   "cell_type": "code",
   "execution_count": 45,
   "id": "9ba62044",
   "metadata": {},
   "outputs": [],
   "source": [
    "# Define the variables and assign both the age, price and piece count\n",
    "y = lego[\"list_price\"]\n",
    "x = lego[[\"piece_count\",\"ages\"]]"
   ]
  },
  {
   "cell_type": "code",
   "execution_count": 46,
   "id": "6602c598",
   "metadata": {},
   "outputs": [
    {
     "data": {
      "text/plain": [
       "array([44.23451228, 33.66784552, 24.5553072 , ..., 40.09246503,\n",
       "       22.06566694, 27.97912265])"
      ]
     },
     "execution_count": 46,
     "metadata": {},
     "output_type": "execute_result"
    }
   ],
   "source": [
    "#Run the linear regression model\n",
    "mlr = linear_model.LinearRegression()\n",
    "mlr.fit(x,y)\n",
    "mlr.predict(x)"
   ]
  },
  {
   "cell_type": "code",
   "execution_count": 47,
   "id": "9b7a97af",
   "metadata": {},
   "outputs": [
    {
     "name": "stdout",
     "output_type": "stream",
     "text": [
      "R-squared:  0.7562637453438303\n",
      "Intercept:  16.795474803050418\n",
      "Coefficients:\n"
     ]
    },
    {
     "data": {
      "text/plain": [
       "[('piece_count', 0.09694189692265547), ('ages', 0.030849054183007322)]"
      ]
     },
     "execution_count": 47,
     "metadata": {},
     "output_type": "execute_result"
    }
   ],
   "source": [
    "# Checking the value of R-squared, intercept and coefficients\n",
    "print(\"R-squared: \", mlr.score(x,y))\n",
    "print(\"Intercept: \", mlr.intercept_)\n",
    "print(\"Coefficients:\")\n",
    "list(zip(x, mlr.coef_))"
   ]
  },
  {
   "cell_type": "code",
   "execution_count": 48,
   "id": "98f4e248",
   "metadata": {},
   "outputs": [
    {
     "name": "stdout",
     "output_type": "stream",
     "text": [
      "Predicted Value: \n",
      " [793.25612181]\n"
     ]
    }
   ],
   "source": [
    "# Estimate some predictions and print the predicted value\n",
    "New_Value1 = 8000\n",
    "New_Value2 = 30\n",
    "print ('Predicted Value: \\n', mlr.predict([[New_Value1 ,New_Value2]]))  "
   ]
  },
  {
   "cell_type": "code",
   "execution_count": 55,
   "id": "e98d9591",
   "metadata": {},
   "outputs": [],
   "source": [
    "# Create train and test data sets with a 70/30 split\n",
    "x_train,x_test,y_train,y_test = sklearn.model_selection.train_test_split(x,y,train_size=0.30, random_state=100) "
   ]
  },
  {
   "cell_type": "code",
   "execution_count": 56,
   "id": "7e4dc00b",
   "metadata": {},
   "outputs": [
    {
     "name": "stdout",
     "output_type": "stream",
     "text": [
      "                            OLS Regression Results                            \n",
      "==============================================================================\n",
      "Dep. Variable:             list_price   R-squared:                       0.784\n",
      "Model:                            OLS   Adj. R-squared:                  0.783\n",
      "Method:                 Least Squares   F-statistic:                     6652.\n",
      "Date:                Tue, 05 Jul 2022   Prob (F-statistic):               0.00\n",
      "Time:                        09:50:37   Log-Likelihood:                -19221.\n",
      "No. Observations:                3678   AIC:                         3.845e+04\n",
      "Df Residuals:                    3675   BIC:                         3.847e+04\n",
      "Df Model:                           2                                         \n",
      "Covariance Type:            nonrobust                                         \n",
      "===============================================================================\n",
      "                  coef    std err          t      P>|t|      [0.025      0.975]\n",
      "-------------------------------------------------------------------------------\n",
      "const          13.9089      1.774      7.839      0.000      10.430      17.388\n",
      "piece_count     0.0991      0.001    114.916      0.000       0.097       0.101\n",
      "ages            0.1354      0.090      1.497      0.134      -0.042       0.313\n",
      "==============================================================================\n",
      "Omnibus:                     4192.273   Durbin-Watson:                   2.020\n",
      "Prob(Omnibus):                  0.000   Jarque-Bera (JB):           631395.592\n",
      "Skew:                           5.701   Prob(JB):                         0.00\n",
      "Kurtosis:                      66.167   Cond. No.                     2.41e+03\n",
      "==============================================================================\n",
      "\n",
      "Notes:\n",
      "[1] Standard Errors assume that the covariance matrix of the errors is correctly specified.\n",
      "[2] The condition number is large, 2.41e+03. This might indicate that there are\n",
      "strong multicollinearity or other numerical problems.\n"
     ]
    }
   ],
   "source": [
    "#Train and testing subsets with MLR and summarise with a OLS Regression table\n",
    "model = sm.OLS(y_train, sm.add_constant(x_train)).fit()\n",
    "Y_pred = model.predict(sm.add_constant(x_test))\n",
    "print_model = model.summary()\n",
    "print(print_model)\n",
    "import warnings\n",
    "warnings.filterwarnings(\"ignore\")"
   ]
  },
  {
   "cell_type": "code",
   "execution_count": 57,
   "id": "8da5de59",
   "metadata": {},
   "outputs": [
    {
     "name": "stdout",
     "output_type": "stream",
     "text": [
      "The Prediction for the test set: [23.93299591 30.69685671 53.63290322 ... 47.24954335 32.05371016\n",
      " 27.58850079]\n"
     ]
    }
   ],
   "source": [
    "#Run a prediction\n",
    "mlr = LinearRegression()\n",
    "mlr.fit(x_test, y_test)\n",
    "y_pred_mlr = mlr.predict(x_test)\n",
    "print(\"The Prediction for the test set: {}\".format(y_pred_mlr))"
   ]
  },
  {
   "cell_type": "code",
   "execution_count": 58,
   "id": "a18306c1",
   "metadata": {},
   "outputs": [
    {
     "name": "stdout",
     "output_type": "stream",
     "text": [
      "78.26613082996747\n"
     ]
    }
   ],
   "source": [
    "#Overall % confidence of the model\n",
    "print(mlr.score(x_train,y_train)*100)"
   ]
  },
  {
   "cell_type": "code",
   "execution_count": 59,
   "id": "83087495",
   "metadata": {},
   "outputs": [
    {
     "name": "stdout",
     "output_type": "stream",
     "text": [
      "   VIF Factor     features\n",
      "0        5.71        const\n",
      "1        1.01  piece_count\n",
      "2        1.01         ages\n"
     ]
    }
   ],
   "source": [
    "#Test for multicollinearity\n",
    "x_temp = sm.add_constant(x_train)\n",
    "vif = pd.DataFrame()\n",
    "vif[\"VIF Factor\"] = [variance_inflation_factor(x_temp.values,i) for i in range(x_temp.values.shape[1])]\n",
    "vif[\"features\"] = x_temp.columns\n",
    "print(vif.round(2))"
   ]
  },
  {
   "cell_type": "code",
   "execution_count": 60,
   "id": "8536f89d",
   "metadata": {},
   "outputs": [],
   "source": [
    "#Overall we have low multicollinearity within our dataset as showm by the VIF factor."
   ]
  },
  {
   "cell_type": "code",
   "execution_count": null,
   "id": "23c61f01",
   "metadata": {},
   "outputs": [],
   "source": []
  },
  {
   "cell_type": "code",
   "execution_count": null,
   "id": "d659f727",
   "metadata": {},
   "outputs": [],
   "source": []
  }
 ],
 "metadata": {
  "kernelspec": {
   "display_name": "Python 3 (ipykernel)",
   "language": "python",
   "name": "python3"
  },
  "language_info": {
   "codemirror_mode": {
    "name": "ipython",
    "version": 3
   },
   "file_extension": ".py",
   "mimetype": "text/x-python",
   "name": "python",
   "nbconvert_exporter": "python",
   "pygments_lexer": "ipython3",
   "version": "3.9.7"
  }
 },
 "nbformat": 4,
 "nbformat_minor": 5
}
